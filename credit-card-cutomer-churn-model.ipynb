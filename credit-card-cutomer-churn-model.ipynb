{
 "cells": [
  {
   "cell_type": "code",
   "execution_count": 19,
   "id": "b38440e3",
   "metadata": {
    "id": "b38440e3"
   },
   "outputs": [],
   "source": [
    "import pandas as pd\n",
    "import numpy as np\n",
    "import matplotlib.pyplot as plt\n",
    "from sklearn import preprocessing\n",
    "import seaborn as sns\n",
    "import miceforest as mf\n",
    "%matplotlib inline\n",
    "\n",
    "from sklearn.model_selection import train_test_split\n",
    "from sklearn.preprocessing import MinMaxScaler, StandardScaler, PolynomialFeatures, OrdinalEncoder, OneHotEncoder, LabelEncoder\n",
    "from imblearn.over_sampling import SMOTE\n",
    "from sklearn.pipeline import Pipeline\n",
    "from sklearn.model_selection import GridSearchCV\n",
    "import seaborn as sn\n",
    "import lightgbm as ltb\n",
    "import xgboost as xgb\n",
    "import matplotlib.pyplot as plt\n",
    "from sklearn.compose import make_column_selector\n",
    "from sklearn import set_config\n",
    "set_config(display=\"diagram\")\n",
    "from sklearn.compose import make_column_transformer\n",
    "from sklearn.impute import SimpleImputer\n",
    "from sklearn.pipeline import make_pipeline\n",
    "from sklearn.base import BaseEstimator, TransformerMixin\n",
    "import warnings\n",
    "warnings.filterwarnings('ignore')\n",
    "\n",
    "from sklearn.metrics import precision_score, recall_score, accuracy_score, f1_score, confusion_matrix, auc,roc_auc_score, roc_curve\n",
    "from sklearn.metrics import confusion_matrix\n",
    "from sklearn.metrics import ConfusionMatrixDisplay\n",
    "from sklearn.metrics import classification_report\n",
    "from sklearn.metrics import mean_squared_error\n",
    "\n",
    "import warnings\n",
    "warnings.filterwarnings('ignore')"
   ]
  },
  {
   "cell_type": "markdown",
   "id": "71943244",
   "metadata": {},
   "source": [
    "### Replace Unknown with null value / Listwise Deletion"
   ]
  },
  {
   "cell_type": "code",
   "execution_count": 36,
   "id": "3ef76869",
   "metadata": {
    "id": "3ef76869"
   },
   "outputs": [],
   "source": [
    "df=pd.read_csv(r'C:\\Users\\Joyce Huang\\Downloads\\BT5126 - Hands-on with Business Analytics\\proposal\\BankChurners.csv\\BankChurners.csv')\n",
    "\n",
    "df=df.replace('Unknown',np.NaN)\n",
    "df=df.dropna()\n",
    "#df.isna().sum()"
   ]
  },
  {
   "cell_type": "markdown",
   "id": "b57b2c93",
   "metadata": {},
   "source": [
    "### Feature engineering - add in ratio"
   ]
  },
  {
   "cell_type": "code",
   "execution_count": 21,
   "id": "da51b171",
   "metadata": {},
   "outputs": [],
   "source": [
    "# Feature engineering\n",
    "df=df.drop(axis=1,columns=['CLIENTNUM','Naive_Bayes_Classifier_Attrition_Flag_Card_Category_Contacts_Count_12_mon_Dependent_count_Education_Level_Months_Inactive_12_mon_1','Naive_Bayes_Classifier_Attrition_Flag_Card_Category_Contacts_Count_12_mon_Dependent_count_Education_Level_Months_Inactive_12_mon_2'])\n",
    "#df['Avg_chng_amt']=df['Total_Amt_Chng_Q4_Q1']/df['Total_Ct_Chng_Q4_Q1']\n",
    "df['Avg_trans_amt']=df['Total_Trans_Amt']/df['Total_Trans_Ct']\n",
    "df['month_active']=12-df['Months_Inactive_12_mon']\n",
    "df['Avg_contacts_per_month']=df['Contacts_Count_12_mon']/df['month_active']\n",
    "df = df.drop(['Months_Inactive_12_mon','Contacts_Count_12_mon','Total_Amt_Chng_Q4_Q1','Total_Trans_Amt','Total_Trans_Ct','Total_Ct_Chng_Q4_Q1'],axis=1)"
   ]
  },
  {
   "cell_type": "markdown",
   "id": "6593ead8",
   "metadata": {},
   "source": [
    "### Combine divorce into Single"
   ]
  },
  {
   "cell_type": "code",
   "execution_count": 22,
   "id": "4ea9c2f8",
   "metadata": {},
   "outputs": [
    {
     "data": {
      "text/plain": [
       "<AxesSubplot:xlabel='Marital_Status', ylabel='count'>"
      ]
     },
     "execution_count": 22,
     "metadata": {},
     "output_type": "execute_result"
    },
    {
     "data": {
      "image/png": "[encoded data removed]",
      "text/plain": [
       "<Figure size 720x216 with 2 Axes>"
      ]
     },
     "metadata": {
      "needs_background": "light"
     },
     "output_type": "display_data"
    }
   ],
   "source": [
    "# Combine divorce into single\n",
    "fig, axes = plt.subplots(1, 2, figsize=(10,3))\n",
    "sns.countplot(df['Marital_Status'],ax=axes[0])\n",
    "df['Marital_Status'] = df['Marital_Status'].replace('Divorced','Single')\n",
    "sns.countplot(df['Marital_Status'],ax=axes[1])"
   ]
  },
  {
   "cell_type": "markdown",
   "id": "98862800",
   "metadata": {},
   "source": [
    "### One hot encoding"
   ]
  },
  {
   "cell_type": "code",
   "execution_count": 23,
   "id": "d09a50ce",
   "metadata": {},
   "outputs": [],
   "source": [
    "# One hot encoding\n",
    "df = pd.get_dummies(df, columns=['Attrition_Flag','Gender','Marital_Status'],drop_first=True)\n",
    "# print(df.columns)"
   ]
  },
  {
   "cell_type": "markdown",
   "id": "ac32ae18",
   "metadata": {},
   "source": [
    "### Check label class"
   ]
  },
  {
   "cell_type": "code",
   "execution_count": 24,
   "id": "d718278c",
   "metadata": {},
   "outputs": [
    {
     "data": {
      "text/plain": [
       "<AxesSubplot:xlabel='Attrition_Flag_Existing Customer', ylabel='count'>"
      ]
     },
     "execution_count": 24,
     "metadata": {},
     "output_type": "execute_result"
    },
    {
     "data": {
      "image/png": "[encoded data removed]",
      "text/plain": [
       "<Figure size 432x288 with 1 Axes>"
      ]
     },
     "metadata": {
      "needs_background": "light"
     },
     "output_type": "display_data"
    }
   ],
   "source": [
    "# Imbalanced y\n",
    "sns.countplot(df['Attrition_Flag_Existing Customer'])"
   ]
  },
  {
   "cell_type": "markdown",
   "id": "32dee7a7",
   "metadata": {},
   "source": [
    "### set X and y"
   ]
  },
  {
   "cell_type": "code",
   "execution_count": 25,
   "id": "4013c3e8",
   "metadata": {},
   "outputs": [],
   "source": [
    "X = df.drop('Attrition_Flag_Existing Customer',axis=1)\n",
    "y = df['Attrition_Flag_Existing Customer']"
   ]
  },
  {
   "cell_type": "code",
   "execution_count": 26,
   "id": "b00014a1",
   "metadata": {
    "id": "b00014a1",
    "scrolled": true
   },
   "outputs": [
    {
     "data": {
      "text/plain": [
       "['Education_Level', 'Income_Category', 'Card_Category']"
      ]
     },
     "execution_count": 26,
     "metadata": {},
     "output_type": "execute_result"
    }
   ],
   "source": [
    "cat_selector = make_column_selector(dtype_include=object)\n",
    "num_selector = make_column_selector(dtype_include=np.number)\n",
    "\n",
    "num_selector(X)\n",
    "cat_selector(X)"
   ]
  },
  {
   "cell_type": "markdown",
   "id": "396f4dab",
   "metadata": {},
   "source": [
    "### Ordinal data Label encoding / Standardization"
   ]
  },
  {
   "cell_type": "code",
   "execution_count": 33,
   "id": "58508dc9",
   "metadata": {},
   "outputs": [
    {
     "data": {
      "text/html": [
       "<div>\n",
       "<style scoped>\n",
       "    .dataframe tbody tr th:only-of-type {\n",
       "        vertical-align: middle;\n",
       "    }\n",
       "\n",
       "    .dataframe tbody tr th {\n",
       "        vertical-align: top;\n",
       "    }\n",
       "\n",
       "    .dataframe thead th {\n",
       "        text-align: right;\n",
       "    }\n",
       "</style>\n",
       "<table border=\"1\" class=\"dataframe\">\n",
       "  <thead>\n",
       "    <tr style=\"text-align: right;\">\n",
       "      <th></th>\n",
       "      <th>Customer_Age</th>\n",
       "      <th>Dependent_count</th>\n",
       "      <th>Education_Level</th>\n",
       "      <th>Income_Category</th>\n",
       "      <th>Card_Category</th>\n",
       "      <th>Months_on_book</th>\n",
       "      <th>Total_Relationship_Count</th>\n",
       "      <th>Credit_Limit</th>\n",
       "      <th>Total_Revolving_Bal</th>\n",
       "      <th>Avg_Open_To_Buy</th>\n",
       "      <th>Avg_Utilization_Ratio</th>\n",
       "      <th>Avg_trans_amt</th>\n",
       "      <th>month_active</th>\n",
       "      <th>Avg_contacts_per_month</th>\n",
       "      <th>Gender_M</th>\n",
       "      <th>Marital_Status_Single</th>\n",
       "    </tr>\n",
       "  </thead>\n",
       "  <tbody>\n",
       "    <tr>\n",
       "      <th>0</th>\n",
       "      <td>-0.167610</td>\n",
       "      <td>0.512710</td>\n",
       "      <td>0.285484</td>\n",
       "      <td>-0.431950</td>\n",
       "      <td>-0.259518</td>\n",
       "      <td>0.377234</td>\n",
       "      <td>0.764487</td>\n",
       "      <td>0.460058</td>\n",
       "      <td>-0.480760</td>\n",
       "      <td>0.502567</td>\n",
       "      <td>-0.794057</td>\n",
       "      <td>-1.311410</td>\n",
       "      <td>1.349309</td>\n",
       "      <td>0.126008</td>\n",
       "      <td>0.954298</td>\n",
       "      <td>-0.993384</td>\n",
       "    </tr>\n",
       "    <tr>\n",
       "      <th>1</th>\n",
       "      <td>0.329862</td>\n",
       "      <td>2.061228</td>\n",
       "      <td>-0.388353</td>\n",
       "      <td>1.014215</td>\n",
       "      <td>-0.259518</td>\n",
       "      <td>1.002074</td>\n",
       "      <td>1.412015</td>\n",
       "      <td>-0.025947</td>\n",
       "      <td>-0.373652</td>\n",
       "      <td>0.007308</td>\n",
       "      <td>-0.636187</td>\n",
       "      <td>-0.870016</td>\n",
       "      <td>1.349309</td>\n",
       "      <td>-0.624783</td>\n",
       "      <td>-1.047890</td>\n",
       "      <td>1.006660</td>\n",
       "    </tr>\n",
       "    <tr>\n",
       "      <th>2</th>\n",
       "      <td>0.578598</td>\n",
       "      <td>0.512710</td>\n",
       "      <td>-0.388353</td>\n",
       "      <td>0.291133</td>\n",
       "      <td>-0.259518</td>\n",
       "      <td>0.002330</td>\n",
       "      <td>0.116959</td>\n",
       "      <td>-0.556114</td>\n",
       "      <td>-1.437353</td>\n",
       "      <td>-0.427933</td>\n",
       "      <td>-1.012921</td>\n",
       "      <td>1.181436</td>\n",
       "      <td>1.349309</td>\n",
       "      <td>-2.126365</td>\n",
       "      <td>0.954298</td>\n",
       "      <td>-0.993384</td>\n",
       "    </tr>\n",
       "    <tr>\n",
       "      <th>3</th>\n",
       "      <td>-0.789449</td>\n",
       "      <td>0.512710</td>\n",
       "      <td>1.633157</td>\n",
       "      <td>-0.431950</td>\n",
       "      <td>-0.259518</td>\n",
       "      <td>-1.872192</td>\n",
       "      <td>0.764487</td>\n",
       "      <td>-0.413874</td>\n",
       "      <td>-1.437353</td>\n",
       "      <td>-0.285773</td>\n",
       "      <td>-1.012921</td>\n",
       "      <td>-1.240658</td>\n",
       "      <td>1.349309</td>\n",
       "      <td>-2.126365</td>\n",
       "      <td>0.954298</td>\n",
       "      <td>-0.993384</td>\n",
       "    </tr>\n",
       "    <tr>\n",
       "      <th>4</th>\n",
       "      <td>-0.291978</td>\n",
       "      <td>-0.261549</td>\n",
       "      <td>-0.388353</td>\n",
       "      <td>-1.155033</td>\n",
       "      <td>-0.259518</td>\n",
       "      <td>0.002330</td>\n",
       "      <td>-0.530569</td>\n",
       "      <td>-0.491240</td>\n",
       "      <td>0.097873</td>\n",
       "      <td>-0.499670</td>\n",
       "      <td>0.102927</td>\n",
       "      <td>-0.639269</td>\n",
       "      <td>1.349309</td>\n",
       "      <td>-0.624783</td>\n",
       "      <td>0.954298</td>\n",
       "      <td>-0.993384</td>\n",
       "    </tr>\n",
       "    <tr>\n",
       "      <th>...</th>\n",
       "      <td>...</td>\n",
       "      <td>...</td>\n",
       "      <td>...</td>\n",
       "      <td>...</td>\n",
       "      <td>...</td>\n",
       "      <td>...</td>\n",
       "      <td>...</td>\n",
       "      <td>...</td>\n",
       "      <td>...</td>\n",
       "      <td>...</td>\n",
       "      <td>...</td>\n",
       "      <td>...</td>\n",
       "      <td>...</td>\n",
       "      <td>...</td>\n",
       "      <td>...</td>\n",
       "      <td>...</td>\n",
       "    </tr>\n",
       "    <tr>\n",
       "      <th>7076</th>\n",
       "      <td>0.951702</td>\n",
       "      <td>-1.035808</td>\n",
       "      <td>0.285484</td>\n",
       "      <td>-0.431950</td>\n",
       "      <td>-0.259518</td>\n",
       "      <td>-0.247607</td>\n",
       "      <td>0.764487</td>\n",
       "      <td>0.596928</td>\n",
       "      <td>1.159112</td>\n",
       "      <td>0.493477</td>\n",
       "      <td>-0.471142</td>\n",
       "      <td>2.752296</td>\n",
       "      <td>0.344317</td>\n",
       "      <td>-2.126365</td>\n",
       "      <td>0.954298</td>\n",
       "      <td>1.006660</td>\n",
       "    </tr>\n",
       "    <tr>\n",
       "      <th>7077</th>\n",
       "      <td>1.200438</td>\n",
       "      <td>-1.035808</td>\n",
       "      <td>-0.388353</td>\n",
       "      <td>1.014215</td>\n",
       "      <td>-0.259518</td>\n",
       "      <td>1.751883</td>\n",
       "      <td>0.116959</td>\n",
       "      <td>-0.526526</td>\n",
       "      <td>-0.691285</td>\n",
       "      <td>-0.464732</td>\n",
       "      <td>-0.424499</td>\n",
       "      <td>2.194866</td>\n",
       "      <td>1.349309</td>\n",
       "      <td>0.876799</td>\n",
       "      <td>-1.047890</td>\n",
       "      <td>1.006660</td>\n",
       "    </tr>\n",
       "    <tr>\n",
       "      <th>7078</th>\n",
       "      <td>0.454230</td>\n",
       "      <td>-0.261549</td>\n",
       "      <td>-0.388353</td>\n",
       "      <td>-1.155033</td>\n",
       "      <td>-0.259518</td>\n",
       "      <td>0.502202</td>\n",
       "      <td>-0.530569</td>\n",
       "      <td>-0.492007</td>\n",
       "      <td>0.841479</td>\n",
       "      <td>-0.566588</td>\n",
       "      <td>0.644706</td>\n",
       "      <td>2.590091</td>\n",
       "      <td>0.344317</td>\n",
       "      <td>0.351246</td>\n",
       "      <td>0.954298</td>\n",
       "      <td>1.006660</td>\n",
       "    </tr>\n",
       "    <tr>\n",
       "      <th>7079</th>\n",
       "      <td>-0.291978</td>\n",
       "      <td>-1.035808</td>\n",
       "      <td>0.285484</td>\n",
       "      <td>1.014215</td>\n",
       "      <td>-0.259518</td>\n",
       "      <td>0.002330</td>\n",
       "      <td>0.764487</td>\n",
       "      <td>-0.337932</td>\n",
       "      <td>-1.437353</td>\n",
       "      <td>-0.209874</td>\n",
       "      <td>-1.012921</td>\n",
       "      <td>4.047763</td>\n",
       "      <td>-0.660674</td>\n",
       "      <td>1.544169</td>\n",
       "      <td>-1.047890</td>\n",
       "      <td>-0.993384</td>\n",
       "    </tr>\n",
       "    <tr>\n",
       "      <th>7080</th>\n",
       "      <td>-0.416345</td>\n",
       "      <td>-0.261549</td>\n",
       "      <td>-0.388353</td>\n",
       "      <td>1.014215</td>\n",
       "      <td>4.060969</td>\n",
       "      <td>-1.372319</td>\n",
       "      <td>1.412015</td>\n",
       "      <td>0.207686</td>\n",
       "      <td>0.976904</td>\n",
       "      <td>0.120664</td>\n",
       "      <td>-0.334801</td>\n",
       "      <td>3.945149</td>\n",
       "      <td>0.344317</td>\n",
       "      <td>1.177116</td>\n",
       "      <td>-1.047890</td>\n",
       "      <td>-0.993384</td>\n",
       "    </tr>\n",
       "  </tbody>\n",
       "</table>\n",
       "<p>7081 rows × 16 columns</p>\n",
       "</div>"
      ],
      "text/plain": [
       "      Customer_Age  Dependent_count  Education_Level  Income_Category  \\\n",
       "0        -0.167610         0.512710         0.285484        -0.431950   \n",
       "1         0.329862         2.061228        -0.388353         1.014215   \n",
       "2         0.578598         0.512710        -0.388353         0.291133   \n",
       "3        -0.789449         0.512710         1.633157        -0.431950   \n",
       "4        -0.291978        -0.261549        -0.388353        -1.155033   \n",
       "...            ...              ...              ...              ...   \n",
       "7076      0.951702        -1.035808         0.285484        -0.431950   \n",
       "7077      1.200438        -1.035808        -0.388353         1.014215   \n",
       "7078      0.454230        -0.261549        -0.388353        -1.155033   \n",
       "7079     -0.291978        -1.035808         0.285484         1.014215   \n",
       "7080     -0.416345        -0.261549        -0.388353         1.014215   \n",
       "\n",
       "      Card_Category  Months_on_book  Total_Relationship_Count  Credit_Limit  \\\n",
       "0         -0.259518        0.377234                  0.764487      0.460058   \n",
       "1         -0.259518        1.002074                  1.412015     -0.025947   \n",
       "2         -0.259518        0.002330                  0.116959     -0.556114   \n",
       "3         -0.259518       -1.872192                  0.764487     -0.413874   \n",
       "4         -0.259518        0.002330                 -0.530569     -0.491240   \n",
       "...             ...             ...                       ...           ...   \n",
       "7076      -0.259518       -0.247607                  0.764487      0.596928   \n",
       "7077      -0.259518        1.751883                  0.116959     -0.526526   \n",
       "7078      -0.259518        0.502202                 -0.530569     -0.492007   \n",
       "7079      -0.259518        0.002330                  0.764487     -0.337932   \n",
       "7080       4.060969       -1.372319                  1.412015      0.207686   \n",
       "\n",
       "      Total_Revolving_Bal  Avg_Open_To_Buy  Avg_Utilization_Ratio  \\\n",
       "0               -0.480760         0.502567              -0.794057   \n",
       "1               -0.373652         0.007308              -0.636187   \n",
       "2               -1.437353        -0.427933              -1.012921   \n",
       "3               -1.437353        -0.285773              -1.012921   \n",
       "4                0.097873        -0.499670               0.102927   \n",
       "...                   ...              ...                    ...   \n",
       "7076             1.159112         0.493477              -0.471142   \n",
       "7077            -0.691285        -0.464732              -0.424499   \n",
       "7078             0.841479        -0.566588               0.644706   \n",
       "7079            -1.437353        -0.209874              -1.012921   \n",
       "7080             0.976904         0.120664              -0.334801   \n",
       "\n",
       "      Avg_trans_amt  month_active  Avg_contacts_per_month  Gender_M  \\\n",
       "0         -1.311410      1.349309                0.126008  0.954298   \n",
       "1         -0.870016      1.349309               -0.624783 -1.047890   \n",
       "2          1.181436      1.349309               -2.126365  0.954298   \n",
       "3         -1.240658      1.349309               -2.126365  0.954298   \n",
       "4         -0.639269      1.349309               -0.624783  0.954298   \n",
       "...             ...           ...                     ...       ...   \n",
       "7076       2.752296      0.344317               -2.126365  0.954298   \n",
       "7077       2.194866      1.349309                0.876799 -1.047890   \n",
       "7078       2.590091      0.344317                0.351246  0.954298   \n",
       "7079       4.047763     -0.660674                1.544169 -1.047890   \n",
       "7080       3.945149      0.344317                1.177116 -1.047890   \n",
       "\n",
       "      Marital_Status_Single  \n",
       "0                 -0.993384  \n",
       "1                  1.006660  \n",
       "2                 -0.993384  \n",
       "3                 -0.993384  \n",
       "4                 -0.993384  \n",
       "...                     ...  \n",
       "7076               1.006660  \n",
       "7077               1.006660  \n",
       "7078               1.006660  \n",
       "7079              -0.993384  \n",
       "7080              -0.993384  \n",
       "\n",
       "[7081 rows x 16 columns]"
      ]
     },
     "metadata": {},
     "output_type": "display_data"
    }
   ],
   "source": [
    "label_encoder = LabelEncoder()\n",
    "X['Education_Level']= label_encoder.fit_transform(X['Education_Level'])\n",
    "X['Income_Category']= label_encoder.fit_transform(X['Income_Category'])\n",
    "X['Card_Category']= label_encoder.fit_transform(X['Card_Category'])\n",
    "#X.describe()\n",
    "#print(X.columns)\n",
    "\n",
    "scaler = StandardScaler()\n",
    "df_standard = scaler.fit_transform(X)\n",
    "df_standard = pd.DataFrame(df_standard)\n",
    "df_standard.columns = ['Customer_Age', 'Dependent_count', 'Education_Level', 'Income_Category',\n",
    "       'Card_Category', 'Months_on_book', 'Total_Relationship_Count',\n",
    "       'Credit_Limit', 'Total_Revolving_Bal', 'Avg_Open_To_Buy',\n",
    "       'Avg_Utilization_Ratio', 'Avg_trans_amt', 'month_active',\n",
    "       'Avg_contacts_per_month', 'Gender_M', 'Marital_Status_Single']\n",
    "display(df_standard)"
   ]
  },
  {
   "cell_type": "markdown",
   "id": "2adbaeb8",
   "metadata": {},
   "source": [
    "### Train test split / SMOTE"
   ]
  },
  {
   "cell_type": "code",
   "execution_count": 34,
   "id": "049eef9e",
   "metadata": {},
   "outputs": [
    {
     "name": "stdout",
     "output_type": "stream",
     "text": [
      "Train purchase class = 4774\n",
      "Train non purchase class = 890\n",
      "Test purchase class = 1194\n",
      "Test non purchase class = 223\n"
     ]
    }
   ],
   "source": [
    "X_train, X_test, y_train, y_test = train_test_split(X, y, test_size=0.2, random_state=36, stratify=y)\n",
    "\n",
    "# Check class imbalance in set\n",
    "print('Train purchase class = {}'.format(sum(y_train == 1)))\n",
    "print('Train non purchase class = {}'.format(len(y_train) - sum(y_train == 1)))\n",
    "print('Test purchase class = {}'.format(sum(y_test == 1)))\n",
    "print('Test non purchase class = {}'.format(len(y_test) - sum(y_test == 1)))"
   ]
  },
  {
   "cell_type": "code",
   "execution_count": 35,
   "id": "9356a3e7",
   "metadata": {
    "id": "9356a3e7"
   },
   "outputs": [
    {
     "name": "stdout",
     "output_type": "stream",
     "text": [
      "Train purchase class = 4774\n",
      "Train non purchase class = 4774\n",
      "Test purchase class = 1194\n",
      "Test non purchase class = 223\n"
     ]
    }
   ],
   "source": [
    "# Over sampling\n",
    "smote = SMOTE()\n",
    "X_train, y_train = smote.fit_resample(X_train, y_train)\n",
    "\n",
    "#check class imbalance in set\n",
    "print('Train purchase class = {}'.format(sum(y_train == 1)))\n",
    "print('Train non purchase class = {}'.format(len(y_train) - sum(y_train == 1)))\n",
    "print('Test purchase class = {}'.format(sum(y_test == 1)))\n",
    "print('Test non purchase class = {}'.format(len(y_test) - sum(y_test == 1)))"
   ]
  },
  {
   "cell_type": "markdown",
   "id": "53fcf2ba",
   "metadata": {
    "id": "926acfd1",
    "outputId": "ca24de2a-5d1a-42ae-cda4-386657997183"
   },
   "source": [
    "## Single Model"
   ]
  },
  {
   "cell_type": "code",
   "execution_count": 46,
   "id": "d80bc3b4",
   "metadata": {},
   "outputs": [],
   "source": [
    "from lightgbm import LGBMClassifier\n",
    "from xgboost import XGBClassifier\n",
    "from sklearn.ensemble import RandomForestClassifier\n",
    "from sklearn.linear_model import LogisticRegression\n",
    "from sklearn.naive_bayes import GaussianNB"
   ]
  },
  {
   "cell_type": "markdown",
   "id": "f3633f4b",
   "metadata": {},
   "source": [
    "### LightGBM"
   ]
  },
  {
   "cell_type": "code",
   "execution_count": 43,
   "id": "3cefebb3",
   "metadata": {},
   "outputs": [
    {
     "name": "stdout",
     "output_type": "stream",
     "text": [
      "Fitting 5 folds for each of 8 candidates, totalling 40 fits\n",
      "best score:  0.9754992946846862\n",
      "best params:  {'learning_rate': 0.5, 'max_depth': 10, 'num_leaves': 50} \n",
      "\n",
      "AUC on training set: 1.000\n",
      "AUC on test set: 0.864 \n",
      "\n",
      "              precision    recall  f1-score   support\n",
      "\n",
      "           0       0.63      0.50      0.56       223\n",
      "           1       0.91      0.95      0.93      1194\n",
      "\n",
      "    accuracy                           0.88      1417\n",
      "   macro avg       0.77      0.72      0.74      1417\n",
      "weighted avg       0.87      0.88      0.87      1417\n",
      "\n"
     ]
    }
   ],
   "source": [
    "params = {'max_depth': [8, 10],\n",
    "          'num_leaves':[40, 50],\n",
    "          'learning_rate': [0.5, 1],\n",
    "          }\n",
    "\n",
    "\n",
    "lightgbm = LGBMClassifier(objective = 'binary',\n",
    "                    metric = 'binary_logloss,auc',\n",
    "                    max_depth = 6,\n",
    "                    num_leaves = 40,\n",
    "                    learning_rate = 0.1,\n",
    "                    min_child_samples=21,\n",
    "                    min_child_weight=0.001)\n",
    "\n",
    "grid = GridSearchCV(estimator=lightgbm, param_grid=params, scoring='roc_auc', cv=5, verbose=1)\n",
    "\n",
    "grid_result = grid.fit(X_train, y_train)\n",
    "print('best score: ', grid_result.best_score_)\n",
    "print('best params: ', grid_result.best_params_,'\\n')\n",
    "\n",
    "lightgbm_y_pred = grid_result.predict(X_test)\n",
    "print(\"AUC on training set: {:.3f}\".format(grid_result.score(X_train, y_train)))\n",
    "print(\"AUC on test set: {:.3f}\".format(grid_result.score(X_test, y_test)),'\\n')\n",
    "print(classification_report(y_test, lightgbm_y_pred))"
   ]
  },
  {
   "cell_type": "markdown",
   "id": "1a82606e",
   "metadata": {},
   "source": [
    "### XGboost"
   ]
  },
  {
   "cell_type": "code",
   "execution_count": 44,
   "id": "cebc7667",
   "metadata": {},
   "outputs": [
    {
     "name": "stdout",
     "output_type": "stream",
     "text": [
      "Fitting 5 folds for each of 16 candidates, totalling 80 fits\n",
      "best score:  0.9751920991352611\n",
      "best params:  {'learning_rate': 0.1, 'max_depth': 30, 'min_child_weight': 1, 'n_estimators': 200} \n",
      "\n",
      "AUC on training set: 1.000\n",
      "AUC on test set: 0.864 \n",
      "\n",
      "              precision    recall  f1-score   support\n",
      "\n",
      "           0       0.64      0.52      0.57       223\n",
      "           1       0.91      0.94      0.93      1194\n",
      "\n",
      "    accuracy                           0.88      1417\n",
      "   macro avg       0.77      0.73      0.75      1417\n",
      "weighted avg       0.87      0.88      0.87      1417\n",
      "\n"
     ]
    }
   ],
   "source": [
    "params = {'max_depth':[28, 30],\n",
    "      'n_estimators':[200, 250],\n",
    "      'learning_rate':[0.1,0.5],\n",
    "      'min_child_weight':[1, 2]\n",
    "      }\n",
    "\n",
    "xgboost = XGBClassifier(objective='binary:logistic', eval_metric=\"auc\", n_jobs=-1 ,random_state=42)\n",
    "grid = GridSearchCV(estimator=xgboost, param_grid=params, scoring='roc_auc', cv=5, verbose=1)\n",
    "\n",
    "grid_result = grid.fit(X_train, y_train)\n",
    "print('best score: ', grid_result.best_score_)\n",
    "print('best params: ', grid_result.best_params_,'\\n')\n",
    "\n",
    "xgboost_y_pred = grid_result.predict(X_test)\n",
    "print(\"AUC on training set: {:.3f}\".format(grid_result.score(X_train, y_train)))\n",
    "print(\"AUC on test set: {:.3f}\".format(grid_result.score(X_test, y_test)),'\\n')\n",
    "print(classification_report(y_test, xgboost_y_pred))"
   ]
  },
  {
   "cell_type": "markdown",
   "id": "c427cd4c",
   "metadata": {},
   "source": [
    "### Random Forest"
   ]
  },
  {
   "cell_type": "code",
   "execution_count": 45,
   "id": "4e9dd74d",
   "metadata": {},
   "outputs": [
    {
     "name": "stdout",
     "output_type": "stream",
     "text": [
      "Fitting 5 folds for each of 8 candidates, totalling 40 fits\n",
      "best score:  0.9745274632204225\n",
      "best params:  {'max_depth': 30, 'max_samples': 0.9, 'n_estimators': 200} \n",
      "\n",
      "AUC on training set: 1.000\n",
      "AUC on test set: 0.849 \n",
      "\n",
      "              precision    recall  f1-score   support\n",
      "\n",
      "           0       0.52      0.50      0.51       223\n",
      "           1       0.91      0.91      0.91      1194\n",
      "\n",
      "    accuracy                           0.85      1417\n",
      "   macro avg       0.71      0.71      0.71      1417\n",
      "weighted avg       0.85      0.85      0.85      1417\n",
      "\n"
     ]
    }
   ],
   "source": [
    "params = {'max_depth': [30, 32],\n",
    "      'n_estimators':[200, 250],\n",
    "      'max_samples':[0.5, 0.9]}\n",
    "\n",
    "\n",
    "clf = RandomForestClassifier(max_features='auto', criterion='entropy', bootstrap=True, n_jobs=-1, random_state=42)\n",
    "\n",
    "grid = GridSearchCV(estimator=clf, param_grid=params, scoring='roc_auc', cv=5, verbose=1)\n",
    "\n",
    "grid_result = grid.fit(X_train, y_train)\n",
    "print('best score: ', grid_result.best_score_)\n",
    "print('best params: ', grid_result.best_params_,'\\n')\n",
    "\n",
    "random_forest_y_pred = grid_result.predict(X_test)\n",
    "print(\"AUC on training set: {:.3f}\".format(grid_result.score(X_train, y_train)))\n",
    "print(\"AUC on test set: {:.3f}\".format(grid_result.score(X_test, y_test)),'\\n')\n",
    "print(classification_report(y_test, random_forest_y_pred))"
   ]
  },
  {
   "cell_type": "markdown",
   "id": "0f1f1e27",
   "metadata": {},
   "source": [
    "### Naive Bayes"
   ]
  },
  {
   "cell_type": "code",
   "execution_count": 66,
   "id": "08dd48b8",
   "metadata": {},
   "outputs": [
    {
     "name": "stdout",
     "output_type": "stream",
     "text": [
      "AUC on training set: 0.871\n",
      "AUC on test set: 0.709 \n",
      "\n",
      "              precision    recall  f1-score   support\n",
      "\n",
      "           0       0.31      0.55      0.39       223\n",
      "           1       0.90      0.77      0.83      1194\n",
      "\n",
      "    accuracy                           0.73      1417\n",
      "   macro avg       0.60      0.66      0.61      1417\n",
      "weighted avg       0.81      0.73      0.76      1417\n",
      "\n"
     ]
    }
   ],
   "source": [
    "from sklearn import metrics\n",
    "clf = GaussianNB()\n",
    "\n",
    "result = clf.fit(X_train, y_train)\n",
    "nb_y_pred = result.predict(X_test)\n",
    "y_pred_proba = result.predict_proba(X_test)[::,1]\n",
    "y_pred_proba_train = result.predict_proba(X_train)[::,1]\n",
    "auc = metrics.roc_auc_score(y_test, y_pred_proba)\n",
    "auc_train = metrics.roc_auc_score(y_train, y_pred_proba_train)\n",
    "\n",
    "print(\"AUC on training set: {:.3f}\".format(auc_train))\n",
    "print(\"AUC on test set: {:.3f}\".format(auc,'\\n'),'\\n')\n",
    "print(classification_report(y_test, nb_y_pred))"
   ]
  },
  {
   "cell_type": "markdown",
   "id": "32f90d2a",
   "metadata": {},
   "source": [
    "### Logistic Regressions"
   ]
  },
  {
   "cell_type": "code",
   "execution_count": 67,
   "id": "df41c27f",
   "metadata": {},
   "outputs": [
    {
     "name": "stdout",
     "output_type": "stream",
     "text": [
      "AUC on training set: 0.755\n",
      "AUC on test set: 0.652 \n",
      "\n",
      "              precision    recall  f1-score   support\n",
      "\n",
      "           0       0.26      0.55      0.35       223\n",
      "           1       0.89      0.70      0.79      1194\n",
      "\n",
      "    accuracy                           0.68      1417\n",
      "   macro avg       0.58      0.63      0.57      1417\n",
      "weighted avg       0.79      0.68      0.72      1417\n",
      "\n"
     ]
    }
   ],
   "source": [
    "clf = LogisticRegression()\n",
    "\n",
    "result = clf.fit(X_train, y_train)\n",
    "logistic_y_pred = result.predict(X_test)\n",
    "y_pred_proba = result.predict_proba(X_test)[::,1]\n",
    "y_pred_proba_train = result.predict_proba(X_train)[::,1]\n",
    "auc = metrics.roc_auc_score(y_test, y_pred_proba)\n",
    "auc_train = metrics.roc_auc_score(y_train, y_pred_proba_train)\n",
    "\n",
    "print(\"AUC on training set: {:.3f}\".format(auc_train))\n",
    "print(\"AUC on test set: {:.3f}\".format(auc,'\\n'),'\\n')\n",
    "print(classification_report(y_test, logistic_y_pred))"
   ]
  },
  {
   "cell_type": "markdown",
   "id": "a86715de",
   "metadata": {
    "id": "85470d28"
   },
   "source": [
    "## Stacking"
   ]
  },
  {
   "cell_type": "code",
   "execution_count": 72,
   "id": "b4e90a6a",
   "metadata": {
    "id": "b4e90a6a",
    "outputId": "9eb27eb5-8e72-459a-94db-337538c2047a",
    "scrolled": true
   },
   "outputs": [
    {
     "data": {
      "text/html": [
       "<style>#sk-d5cc8263-3ff8-4a5f-a47e-a72c9ac27fe2 {color: black;background-color: white;}#sk-d5cc8263-3ff8-4a5f-a47e-a72c9ac27fe2 pre{padding: 0;}#sk-d5cc8263-3ff8-4a5f-a47e-a72c9ac27fe2 div.sk-toggleable {background-color: white;}#sk-d5cc8263-3ff8-4a5f-a47e-a72c9ac27fe2 label.sk-toggleable__label {cursor: pointer;display: block;width: 100%;margin-bottom: 0;padding: 0.3em;box-sizing: border-box;text-align: center;}#sk-d5cc8263-3ff8-4a5f-a47e-a72c9ac27fe2 label.sk-toggleable__label-arrow:before {content: \"▸\";float: left;margin-right: 0.25em;color: #696969;}#sk-d5cc8263-3ff8-4a5f-a47e-a72c9ac27fe2 label.sk-toggleable__label-arrow:hover:before {color: black;}#sk-d5cc8263-3ff8-4a5f-a47e-a72c9ac27fe2 div.sk-estimator:hover label.sk-toggleable__label-arrow:before {color: black;}#sk-d5cc8263-3ff8-4a5f-a47e-a72c9ac27fe2 div.sk-toggleable__content {max-height: 0;max-width: 0;overflow: hidden;text-align: left;background-color: #f0f8ff;}#sk-d5cc8263-3ff8-4a5f-a47e-a72c9ac27fe2 div.sk-toggleable__content pre {margin: 0.2em;color: black;border-radius: 0.25em;background-color: #f0f8ff;}#sk-d5cc8263-3ff8-4a5f-a47e-a72c9ac27fe2 input.sk-toggleable__control:checked~div.sk-toggleable__content {max-height: 200px;max-width: 100%;overflow: auto;}#sk-d5cc8263-3ff8-4a5f-a47e-a72c9ac27fe2 input.sk-toggleable__control:checked~label.sk-toggleable__label-arrow:before {content: \"▾\";}#sk-d5cc8263-3ff8-4a5f-a47e-a72c9ac27fe2 div.sk-estimator input.sk-toggleable__control:checked~label.sk-toggleable__label {background-color: #d4ebff;}#sk-d5cc8263-3ff8-4a5f-a47e-a72c9ac27fe2 div.sk-label input.sk-toggleable__control:checked~label.sk-toggleable__label {background-color: #d4ebff;}#sk-d5cc8263-3ff8-4a5f-a47e-a72c9ac27fe2 input.sk-hidden--visually {border: 0;clip: rect(1px 1px 1px 1px);clip: rect(1px, 1px, 1px, 1px);height: 1px;margin: -1px;overflow: hidden;padding: 0;position: absolute;width: 1px;}#sk-d5cc8263-3ff8-4a5f-a47e-a72c9ac27fe2 div.sk-estimator {font-family: monospace;background-color: #f0f8ff;border: 1px dotted black;border-radius: 0.25em;box-sizing: border-box;margin-bottom: 0.5em;}#sk-d5cc8263-3ff8-4a5f-a47e-a72c9ac27fe2 div.sk-estimator:hover {background-color: #d4ebff;}#sk-d5cc8263-3ff8-4a5f-a47e-a72c9ac27fe2 div.sk-parallel-item::after {content: \"\";width: 100%;border-bottom: 1px solid gray;flex-grow: 1;}#sk-d5cc8263-3ff8-4a5f-a47e-a72c9ac27fe2 div.sk-label:hover label.sk-toggleable__label {background-color: #d4ebff;}#sk-d5cc8263-3ff8-4a5f-a47e-a72c9ac27fe2 div.sk-serial::before {content: \"\";position: absolute;border-left: 1px solid gray;box-sizing: border-box;top: 2em;bottom: 0;left: 50%;}#sk-d5cc8263-3ff8-4a5f-a47e-a72c9ac27fe2 div.sk-serial {display: flex;flex-direction: column;align-items: center;background-color: white;padding-right: 0.2em;padding-left: 0.2em;}#sk-d5cc8263-3ff8-4a5f-a47e-a72c9ac27fe2 div.sk-item {z-index: 1;}#sk-d5cc8263-3ff8-4a5f-a47e-a72c9ac27fe2 div.sk-parallel {display: flex;align-items: stretch;justify-content: center;background-color: white;}#sk-d5cc8263-3ff8-4a5f-a47e-a72c9ac27fe2 div.sk-parallel::before {content: \"\";position: absolute;border-left: 1px solid gray;box-sizing: border-box;top: 2em;bottom: 0;left: 50%;}#sk-d5cc8263-3ff8-4a5f-a47e-a72c9ac27fe2 div.sk-parallel-item {display: flex;flex-direction: column;position: relative;background-color: white;}#sk-d5cc8263-3ff8-4a5f-a47e-a72c9ac27fe2 div.sk-parallel-item:first-child::after {align-self: flex-end;width: 50%;}#sk-d5cc8263-3ff8-4a5f-a47e-a72c9ac27fe2 div.sk-parallel-item:last-child::after {align-self: flex-start;width: 50%;}#sk-d5cc8263-3ff8-4a5f-a47e-a72c9ac27fe2 div.sk-parallel-item:only-child::after {width: 0;}#sk-d5cc8263-3ff8-4a5f-a47e-a72c9ac27fe2 div.sk-dashed-wrapped {border: 1px dashed gray;margin: 0 0.4em 0.5em 0.4em;box-sizing: border-box;padding-bottom: 0.4em;background-color: white;position: relative;}#sk-d5cc8263-3ff8-4a5f-a47e-a72c9ac27fe2 div.sk-label label {font-family: monospace;font-weight: bold;background-color: white;display: inline-block;line-height: 1.2em;}#sk-d5cc8263-3ff8-4a5f-a47e-a72c9ac27fe2 div.sk-label-container {position: relative;z-index: 2;text-align: center;}#sk-d5cc8263-3ff8-4a5f-a47e-a72c9ac27fe2 div.sk-container {/* jupyter's `normalize.less` sets `[hidden] { display: none; }` but bootstrap.min.css set `[hidden] { display: none !important; }` so we also need the `!important` here to be able to override the default hidden behavior on the sphinx rendered scikit-learn.org. See: https://github.com/scikit-learn/scikit-learn/issues/21755 */display: inline-block !important;position: relative;}#sk-d5cc8263-3ff8-4a5f-a47e-a72c9ac27fe2 div.sk-text-repr-fallback {display: none;}</style><div id=\"sk-d5cc8263-3ff8-4a5f-a47e-a72c9ac27fe2\" class=\"sk-top-container\"><div class=\"sk-text-repr-fallback\"><pre>StackingClassifier(estimators=[(&#x27;lightgbm&#x27;,\n",
       "                                LGBMClassifier(learning_rate=0.5, max_depth=10,\n",
       "                                               metric=&#x27;binary_logloss,auc&#x27;,\n",
       "                                               min_child_samples=21,\n",
       "                                               num_leaves=50,\n",
       "                                               objective=&#x27;binary&#x27;)),\n",
       "                               (&#x27;xgboost&#x27;,\n",
       "                                RandomForestClassifier(criterion=&#x27;entropy&#x27;,\n",
       "                                                       max_depth=30,\n",
       "                                                       max_samples=0.9,\n",
       "                                                       n_estimators=200,\n",
       "                                                       n_jobs=-1,\n",
       "                                                       random_state=42))],\n",
       "                   final_estimator=XGBClassifier(base_score=None, bo...\n",
       "                                                 importance_type=None,\n",
       "                                                 interaction_constraints=None,\n",
       "                                                 learning_rate=0.1,\n",
       "                                                 max_delta_step=None,\n",
       "                                                 max_depth=30,\n",
       "                                                 min_child_weight=1,\n",
       "                                                 missing=nan,\n",
       "                                                 monotone_constraints=None,\n",
       "                                                 n_estimators=200, n_jobs=-1,\n",
       "                                                 num_parallel_tree=None,\n",
       "                                                 predictor=None,\n",
       "                                                 random_state=42,\n",
       "                                                 reg_alpha=None,\n",
       "                                                 reg_lambda=None,\n",
       "                                                 scale_pos_weight=None,\n",
       "                                                 subsample=None,\n",
       "                                                 tree_method=None,\n",
       "                                                 validate_parameters=None,\n",
       "                                                 verbosity=None))</pre><b>Please rerun this cell to show the HTML repr or trust the notebook.</b></div><div class=\"sk-container\" hidden><div class=\"sk-item sk-dashed-wrapped\"><div class=\"sk-label-container\"><div class=\"sk-label sk-toggleable\"><input class=\"sk-toggleable__control sk-hidden--visually\" id=\"9f76b727-aec9-4ea9-b9ef-c2da4cde5c83\" type=\"checkbox\" ><label for=\"9f76b727-aec9-4ea9-b9ef-c2da4cde5c83\" class=\"sk-toggleable__label sk-toggleable__label-arrow\">StackingClassifier</label><div class=\"sk-toggleable__content\"><pre>StackingClassifier(estimators=[(&#x27;lightgbm&#x27;,\n",
       "                                LGBMClassifier(learning_rate=0.5, max_depth=10,\n",
       "                                               metric=&#x27;binary_logloss,auc&#x27;,\n",
       "                                               min_child_samples=21,\n",
       "                                               num_leaves=50,\n",
       "                                               objective=&#x27;binary&#x27;)),\n",
       "                               (&#x27;xgboost&#x27;,\n",
       "                                RandomForestClassifier(criterion=&#x27;entropy&#x27;,\n",
       "                                                       max_depth=30,\n",
       "                                                       max_samples=0.9,\n",
       "                                                       n_estimators=200,\n",
       "                                                       n_jobs=-1,\n",
       "                                                       random_state=42))],\n",
       "                   final_estimator=XGBClassifier(base_score=None, bo...\n",
       "                                                 importance_type=None,\n",
       "                                                 interaction_constraints=None,\n",
       "                                                 learning_rate=0.1,\n",
       "                                                 max_delta_step=None,\n",
       "                                                 max_depth=30,\n",
       "                                                 min_child_weight=1,\n",
       "                                                 missing=nan,\n",
       "                                                 monotone_constraints=None,\n",
       "                                                 n_estimators=200, n_jobs=-1,\n",
       "                                                 num_parallel_tree=None,\n",
       "                                                 predictor=None,\n",
       "                                                 random_state=42,\n",
       "                                                 reg_alpha=None,\n",
       "                                                 reg_lambda=None,\n",
       "                                                 scale_pos_weight=None,\n",
       "                                                 subsample=None,\n",
       "                                                 tree_method=None,\n",
       "                                                 validate_parameters=None,\n",
       "                                                 verbosity=None))</pre></div></div></div><div class=\"sk-serial\"><div class=\"sk-item\"><div class=\"sk-parallel\"><div class=\"sk-parallel-item\"><div class=\"sk-item\"><div class=\"sk-label-container\"><div class=\"sk-label sk-toggleable\"><label>lightgbm</label></div></div><div class=\"sk-serial\"><div class=\"sk-item\"><div class=\"sk-estimator sk-toggleable\"><input class=\"sk-toggleable__control sk-hidden--visually\" id=\"70ba14f6-b5f7-4897-8aec-dff02fb167f3\" type=\"checkbox\" ><label for=\"70ba14f6-b5f7-4897-8aec-dff02fb167f3\" class=\"sk-toggleable__label sk-toggleable__label-arrow\">LGBMClassifier</label><div class=\"sk-toggleable__content\"><pre>LGBMClassifier(learning_rate=0.5, max_depth=10, metric=&#x27;binary_logloss,auc&#x27;,\n",
       "               min_child_samples=21, num_leaves=50, objective=&#x27;binary&#x27;)</pre></div></div></div></div></div></div><div class=\"sk-parallel-item\"><div class=\"sk-item\"><div class=\"sk-label-container\"><div class=\"sk-label sk-toggleable\"><label>xgboost</label></div></div><div class=\"sk-serial\"><div class=\"sk-item\"><div class=\"sk-estimator sk-toggleable\"><input class=\"sk-toggleable__control sk-hidden--visually\" id=\"75490ffa-5e23-44eb-adc9-03c5bdb43b73\" type=\"checkbox\" ><label for=\"75490ffa-5e23-44eb-adc9-03c5bdb43b73\" class=\"sk-toggleable__label sk-toggleable__label-arrow\">RandomForestClassifier</label><div class=\"sk-toggleable__content\"><pre>RandomForestClassifier(criterion=&#x27;entropy&#x27;, max_depth=30, max_samples=0.9,\n",
       "                       n_estimators=200, n_jobs=-1, random_state=42)</pre></div></div></div></div></div></div></div></div><div class=\"sk-item\"><div class=\"sk-parallel\"><div class=\"sk-parallel-item\"><div class=\"sk-item\"><div class=\"sk-label-container\"><div class=\"sk-label sk-toggleable\"><label>final_estimator</label></div></div><div class=\"sk-serial\"><div class=\"sk-item\"><div class=\"sk-estimator sk-toggleable\"><input class=\"sk-toggleable__control sk-hidden--visually\" id=\"823d15b3-e8ac-4b15-86b6-39c0ae950115\" type=\"checkbox\" ><label for=\"823d15b3-e8ac-4b15-86b6-39c0ae950115\" class=\"sk-toggleable__label sk-toggleable__label-arrow\">XGBClassifier</label><div class=\"sk-toggleable__content\"><pre>XGBClassifier(base_score=None, booster=None, colsample_bylevel=None,\n",
       "              colsample_bynode=None, colsample_bytree=None,\n",
       "              enable_categorical=False, eval_metric=&#x27;auc&#x27;, gamma=None,\n",
       "              gpu_id=None, importance_type=None, interaction_constraints=None,\n",
       "              learning_rate=0.1, max_delta_step=None, max_depth=30,\n",
       "              min_child_weight=1, missing=nan, monotone_constraints=None,\n",
       "              n_estimators=200, n_jobs=-1, num_parallel_tree=None,\n",
       "              predictor=None, random_state=42, reg_alpha=None, reg_lambda=None,\n",
       "              scale_pos_weight=None, subsample=None, tree_method=None,\n",
       "              validate_parameters=None, verbosity=None)</pre></div></div></div></div></div></div></div></div></div></div></div></div>"
      ],
      "text/plain": [
       "StackingClassifier(estimators=[('lightgbm',\n",
       "                                LGBMClassifier(learning_rate=0.5, max_depth=10,\n",
       "                                               metric='binary_logloss,auc',\n",
       "                                               min_child_samples=21,\n",
       "                                               num_leaves=50,\n",
       "                                               objective='binary')),\n",
       "                               ('xgboost',\n",
       "                                RandomForestClassifier(criterion='entropy',\n",
       "                                                       max_depth=30,\n",
       "                                                       max_samples=0.9,\n",
       "                                                       n_estimators=200,\n",
       "                                                       n_jobs=-1,\n",
       "                                                       random_state=42))],\n",
       "                   final_estimator=XGBClassifier(base_score=None, bo...\n",
       "                                                 importance_type=None,\n",
       "                                                 interaction_constraints=None,\n",
       "                                                 learning_rate=0.1,\n",
       "                                                 max_delta_step=None,\n",
       "                                                 max_depth=30,\n",
       "                                                 min_child_weight=1,\n",
       "                                                 missing=nan,\n",
       "                                                 monotone_constraints=None,\n",
       "                                                 n_estimators=200, n_jobs=-1,\n",
       "                                                 num_parallel_tree=None,\n",
       "                                                 predictor=None,\n",
       "                                                 random_state=42,\n",
       "                                                 reg_alpha=None,\n",
       "                                                 reg_lambda=None,\n",
       "                                                 scale_pos_weight=None,\n",
       "                                                 subsample=None,\n",
       "                                                 tree_method=None,\n",
       "                                                 validate_parameters=None,\n",
       "                                                 verbosity=None))"
      ]
     },
     "execution_count": 72,
     "metadata": {},
     "output_type": "execute_result"
    }
   ],
   "source": [
    "from sklearn.ensemble import StackingClassifier\n",
    "\n",
    "models = [('lightgbm', LGBMClassifier(objective = 'binary',\n",
    "                    metric = 'binary_logloss,auc',\n",
    "                    max_depth = 10,\n",
    "                    num_leaves = 50,\n",
    "                    learning_rate = 0.5,\n",
    "                    min_child_samples=21,\n",
    "                    min_child_weight=0.001)),\n",
    "          ('xgboost', RandomForestClassifier(max_features='auto', \n",
    "                                            criterion='entropy',\n",
    "                                            max_depth=30,\n",
    "                                            max_samples=0.9,\n",
    "                                            n_estimators=200,\n",
    "                                            bootstrap=True, \n",
    "                                            n_jobs=-1, \n",
    "                                            random_state=42))]\n",
    "\n",
    "stacking = StackingClassifier(estimators=models, final_estimator=XGBClassifier(objective='binary:logistic', \n",
    "                                                                               eval_metric=\"auc\", \n",
    "                                                                               n_jobs=-1,\n",
    "                                                                               random_state=42,\n",
    "                                                                               learning_rate=0.1,\n",
    "                                                                               max_depth=30,\n",
    "                                                                               min_child_weight=1,\n",
    "                                                                               n_estimators=200))\n",
    "\n",
    "stacking"
   ]
  },
  {
   "cell_type": "code",
   "execution_count": 76,
   "id": "798ff69b",
   "metadata": {},
   "outputs": [],
   "source": [
    "result = stacking.fit(X_train, y_train)"
   ]
  },
  {
   "cell_type": "code",
   "execution_count": 75,
   "id": "d81d33a7",
   "metadata": {},
   "outputs": [],
   "source": [
    "y_pred = stacking.predict(X_test)"
   ]
  },
  {
   "cell_type": "code",
   "execution_count": 78,
   "id": "6e223a1c",
   "metadata": {},
   "outputs": [
    {
     "name": "stdout",
     "output_type": "stream",
     "text": [
      "AUC on training set: 1.000\n",
      "AUC on test set: 0.815 \n",
      "\n",
      "              precision    recall  f1-score   support\n",
      "\n",
      "           0       0.55      0.41      0.47       223\n",
      "           1       0.90      0.94      0.92      1194\n",
      "\n",
      "    accuracy                           0.85      1417\n",
      "   macro avg       0.72      0.67      0.69      1417\n",
      "weighted avg       0.84      0.85      0.85      1417\n",
      "\n"
     ]
    }
   ],
   "source": [
    "y_pred_proba = result.predict_proba(X_test)[::,1]\n",
    "y_pred_proba_train = result.predict_proba(X_train)[::,1]\n",
    "auc = metrics.roc_auc_score(y_test, y_pred_proba)\n",
    "auc_train = metrics.roc_auc_score(y_train, y_pred_proba_train)\n",
    "\n",
    "print(\"AUC on training set: {:.3f}\".format(auc_train))\n",
    "print(\"AUC on test set: {:.3f}\".format(auc,'\\n'),'\\n')\n",
    "print(classification_report(y_test, y_pred))"
   ]
  },
  {
   "cell_type": "markdown",
   "id": "196ddef6",
   "metadata": {},
   "source": [
    "### XGboost single model is the best"
   ]
  }
 ],
 "metadata": {
  "colab": {
   "collapsed_sections": [],
   "name": "5126NoteBook.ipynb",
   "provenance": []
  },
  "kernelspec": {
   "display_name": "Python 3",
   "language": "python",
   "name": "python3"
  },
  "language_info": {
   "codemirror_mode": {
    "name": "ipython",
    "version": 3
   },
   "file_extension": ".py",
   "mimetype": "text/x-python",
   "name": "python",
   "nbconvert_exporter": "python",
   "pygments_lexer": "ipython3",
   "version": "3.8.8"
  },
  "varInspector": {
   "cols": {
    "lenName": 16,
    "lenType": 16,
    "lenVar": 40
   },
   "kernels_config": {
    "python": {
     "delete_cmd_postfix": "",
     "delete_cmd_prefix": "del ",
     "library": "var_list.py",
     "varRefreshCmd": "print(var_dic_list())"
    },
    "r": {
     "delete_cmd_postfix": ") ",
     "delete_cmd_prefix": "rm(",
     "library": "var_list.r",
     "varRefreshCmd": "cat(var_dic_list()) "
    }
   },
   "types_to_exclude": [
    "module",
    "function",
    "builtin_function_or_method",
    "instance",
    "_Feature"
   ],
   "window_display": false
  }
 },
 "nbformat": 4,
 "nbformat_minor": 5
}
